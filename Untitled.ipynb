{
 "cells": [
  {
   "cell_type": "code",
   "execution_count": 7,
   "metadata": {
    "scrolled": true
   },
   "outputs": [
    {
     "data": {
      "text/plain": [
       "[<matplotlib.lines.Line2D at 0x271e5d5dcf8>]"
      ]
     },
     "execution_count": 7,
     "metadata": {},
     "output_type": "execute_result"
    },
    {
     "data": {
      "image/png": "[encoded data removed]",
      "text/plain": [
       "<Figure size 432x288 with 1 Axes>"
      ]
     },
     "metadata": {},
     "output_type": "display_data"
    }
   ],
   "source": [
    "#!/usr/bin/env python\n",
    "import csv\n",
    "import pandas as pd\n",
    "import numpy as np\n",
    "import matplotlib\n",
    "import matplotlib.pyplot as plt\n",
    "import seaborn as sns\n",
    "import IPython\n",
    "\n",
    "%matplotlib inline\n",
    "\n",
    "\n",
    "\n",
    "#first I want to take the two signals and write them to arrays in python that I can apply the DTW to\n",
    "#to do this to the the csv I will import the CH2 column from both of the files and then run my analysis\n",
    "\n",
    "csv = np.genfromtxt('Fadi2DTW.csv', delimiter=\",\")\n",
    "fadi1 = csv[:,1]\n",
    "\n",
    "csv = np.genfromtxt('Fadi4.csv', delimiter=\",\")\n",
    "fadi2 = csv[:,1]\n",
    "\n",
    "# I now have the data in my two np arrays we can now plot them to see wat they will look like\n",
    "plt.plot(fadi1, 'r', label = 'Fadi 0')\n",
    "plt.plot(fadi2, 'g', label = 'Fadi 4')\n",
    "\n",
    "\n"
   ]
  },
  {
   "cell_type": "code",
   "execution_count": null,
   "metadata": {},
   "outputs": [],
   "source": [
    "#From here we want to see if they are similar.  We will do this by creating a mapping of between all of the points in the tow signals\n",
    "#to compute the distance e have to make a 2d matrix\n",
    "distances = np.zeros((len(fadi2), len(fadi1)))\n",
    "\n",
    "for i in range(len(fadi2)):\n",
    "    for j in range(len(fadi1)):\n",
    "        distances[i,j] = (fadi1[j]-fadi2[i])**2  \n",
    "\n",
    "#for this distance we can choose between a couple different options but we will opt to use the Euclidean distance\n",
    "#we now want to plot the distance that we just calculted and we can use a heat map to do this\n",
    "\n",
    "def distance_cost_plot(distances):\n",
    "    im = plt.imshow(distances, interpolation='nearest', cmap='Reds')\n",
    "    plt.gca().invert_yaxis()\n",
    "    plt.xlabel(\"Fadi0\")\n",
    "    plt.ylabel(\"Fadi4\")\n",
    "    plt.grid()\n",
    "    plt.colorbar()\n",
    "\n",
    "\n",
    "distance_cost_plot(distances)\n",
    "\n",
    "\n",
    "accumulated_cost = np.zeros((len(fadi2), len(fadi1)))\n",
    "accumulated_cost[0,0] = distances[0,0]\n",
    "distance_cost_plot(accumulated_cost)\n",
    "\n",
    "for i in range(1, len(fadi1)):\n",
    "    accumulated_cost[0,i] = distances[0,i] + accumulated_cost[0, i-1]\n",
    "\n",
    "distance_cost_plot(accumulated_cost)\n",
    "\n",
    "for i in range(1, len(fadi2)):\n",
    "    accumulated_cost[i,0] = distances[i, 0] + accumulated_cost[i-1, 0]    \n",
    "distance_cost_plot(accumulated_cost)\n",
    "\n",
    "for i in range(1, len(fadi2)):\n",
    "    for j in range(1, len(fadi1)):\n",
    "        accumulated_cost[i, j] = min(accumulated_cost[i-1, j-1], accumulated_cost[i-1, j], accumulated_cost[i, j-1]) + distances[i, j]\n",
    "\n",
    "distance_cost_plot(accumulated_cost)\n",
    "\n",
    "path = [[len(fadi1)-1, len(fadi2)-1]]\n",
    "i = len(fadi2)-1\n",
    "j = len(fadi1)-1\n",
    "while i>0 and j>0:\n",
    "    if i==0:\n",
    "        j = j - 1\n",
    "    elif j==0:\n",
    "        i = i - 1\n",
    "    else:\n",
    "        if accumulated_cost[i-1, j] == min(accumulated_cost[i-1, j-1], accumulated_cost[i-1, j], accumulated_cost[i, j-1]):\n",
    "            i = i - 1\n",
    "        elif accumulated_cost[i, j-1] == min(accumulated_cost[i-1, j-1], accumulated_cost[i-1, j], accumulated_cost[i, j-1]):\n",
    "            j = j-1\n",
    "        else:\n",
    "            i = i - 1\n",
    "            j= j- 1\n",
    "    path.append([j, i])\n",
    "path.append([0,0])\n",
    "\n",
    "path_x = [point[0] for point in path]\n",
    "path_y = [point[1] for point in path]\n",
    "distance_cost_plot(accumulated_cost)\n",
    "plt.plot(path_x, path_y)\n",
    "\n",
    "def path_cost(fadi1, fadi2, accumulated_cost, distances):\n",
    "    path = [[len(fadi1)-1, len(fadi2)-1]]\n",
    "    cost = 0\n",
    "    i = len(fadi2)-1\n",
    "    j = len(fadi1)-1\n",
    "    while i>0 and j>0:\n",
    "        if i==0:\n",
    "            j = j - 1\n",
    "        elif j==0:\n",
    "            i = i - 1\n",
    "        else:\n",
    "            if accumulated_cost[i-1, j] == min(accumulated_cost[i-1, j-1], accumulated_cost[i-1, j], accumulated_cost[i, j-1]):\n",
    "                i = i - 1\n",
    "            elif accumulated_cost[i, j-1] == min(accumulated_cost[i-1, j-1], accumulated_cost[i-1, j], accumulated_cost[i, j-1]):\n",
    "                j = j-1\n",
    "            else:\n",
    "                i = i - 1\n",
    "                j= j- 1\n",
    "        path.append([j, i])\n",
    "    path.append([0,0])\n",
    "    for [fadi2, fadi1] in path:\n",
    "        cost = cost +distances[fadi1, fadi2]\n",
    "    return path, cost \n",
    "\n",
    "path, cost = path_cost(fadi1, fadi2, accumulated_cost, distances)\n",
    "print(path)\n",
    "print(cost)\n",
    "\n",
    "#this is an implementation that we have created for this problem but we can also try it using a library that python has and see the difference\n"
   ]
  },
  {
   "cell_type": "code",
   "execution_count": null,
   "metadata": {},
   "outputs": [],
   "source": []
  }
 ],
 "metadata": {
  "kernelspec": {
   "display_name": "Python 3",
   "language": "python",
   "name": "python3"
  },
  "language_info": {
   "codemirror_mode": {
    "name": "ipython",
    "version": 3
   },
   "file_extension": ".py",
   "mimetype": "text/x-python",
   "name": "python",
   "nbconvert_exporter": "python",
   "pygments_lexer": "ipython3",
   "version": "3.6.5"
  }
 },
 "nbformat": 4,
 "nbformat_minor": 2
}
